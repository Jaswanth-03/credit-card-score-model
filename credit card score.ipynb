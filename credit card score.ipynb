{
 "cells": [
  {
   "cell_type": "markdown",
   "metadata": {},
   "source": [
    "# Credit card score"
   ]
  },
  {
   "cell_type": "code",
   "execution_count": 1,
   "metadata": {},
   "outputs": [],
   "source": [
    "import pandas as pd\n",
    "import seaborn as sn\n",
    "import matplotlib.pyplot as plt\n"
   ]
  },
  {
   "cell_type": "markdown",
   "metadata": {},
   "source": [
    "# Importing dataset\n",
    "- for more details ragarding dataset go through text document "
   ]
  },
  {
   "cell_type": "code",
   "execution_count": 2,
   "metadata": {},
   "outputs": [
    {
     "data": {
      "text/plain": [
       "(1000, 21)"
      ]
     },
     "execution_count": 2,
     "metadata": {},
     "output_type": "execute_result"
    }
   ],
   "source": [
    "credit_data=pd.read_csv(\"SouthGermanCredit.asc\",sep=\" \")\n",
    "pd.set_option(\"display.max_columns\",21)\n",
    "credit_data.shape"
   ]
  },
  {
   "cell_type": "code",
   "execution_count": 3,
   "metadata": {
    "scrolled": true
   },
   "outputs": [
    {
     "data": {
      "text/html": [
       "<div>\n",
       "<style scoped>\n",
       "    .dataframe tbody tr th:only-of-type {\n",
       "        vertical-align: middle;\n",
       "    }\n",
       "\n",
       "    .dataframe tbody tr th {\n",
       "        vertical-align: top;\n",
       "    }\n",
       "\n",
       "    .dataframe thead th {\n",
       "        text-align: right;\n",
       "    }\n",
       "</style>\n",
       "<table border=\"1\" class=\"dataframe\">\n",
       "  <thead>\n",
       "    <tr style=\"text-align: right;\">\n",
       "      <th></th>\n",
       "      <th>laufkont</th>\n",
       "      <th>laufzeit</th>\n",
       "      <th>moral</th>\n",
       "      <th>verw</th>\n",
       "      <th>hoehe</th>\n",
       "      <th>sparkont</th>\n",
       "      <th>beszeit</th>\n",
       "      <th>rate</th>\n",
       "      <th>famges</th>\n",
       "      <th>buerge</th>\n",
       "      <th>wohnzeit</th>\n",
       "      <th>verm</th>\n",
       "      <th>alter</th>\n",
       "      <th>weitkred</th>\n",
       "      <th>wohn</th>\n",
       "      <th>bishkred</th>\n",
       "      <th>beruf</th>\n",
       "      <th>pers</th>\n",
       "      <th>telef</th>\n",
       "      <th>gastarb</th>\n",
       "      <th>kredit</th>\n",
       "    </tr>\n",
       "  </thead>\n",
       "  <tbody>\n",
       "    <tr>\n",
       "      <th>0</th>\n",
       "      <td>1</td>\n",
       "      <td>18</td>\n",
       "      <td>4</td>\n",
       "      <td>2</td>\n",
       "      <td>1049</td>\n",
       "      <td>1</td>\n",
       "      <td>2</td>\n",
       "      <td>4</td>\n",
       "      <td>2</td>\n",
       "      <td>1</td>\n",
       "      <td>4</td>\n",
       "      <td>2</td>\n",
       "      <td>21</td>\n",
       "      <td>3</td>\n",
       "      <td>1</td>\n",
       "      <td>1</td>\n",
       "      <td>3</td>\n",
       "      <td>2</td>\n",
       "      <td>1</td>\n",
       "      <td>2</td>\n",
       "      <td>1</td>\n",
       "    </tr>\n",
       "    <tr>\n",
       "      <th>1</th>\n",
       "      <td>1</td>\n",
       "      <td>9</td>\n",
       "      <td>4</td>\n",
       "      <td>0</td>\n",
       "      <td>2799</td>\n",
       "      <td>1</td>\n",
       "      <td>3</td>\n",
       "      <td>2</td>\n",
       "      <td>3</td>\n",
       "      <td>1</td>\n",
       "      <td>2</td>\n",
       "      <td>1</td>\n",
       "      <td>36</td>\n",
       "      <td>3</td>\n",
       "      <td>1</td>\n",
       "      <td>2</td>\n",
       "      <td>3</td>\n",
       "      <td>1</td>\n",
       "      <td>1</td>\n",
       "      <td>2</td>\n",
       "      <td>1</td>\n",
       "    </tr>\n",
       "    <tr>\n",
       "      <th>2</th>\n",
       "      <td>2</td>\n",
       "      <td>12</td>\n",
       "      <td>2</td>\n",
       "      <td>9</td>\n",
       "      <td>841</td>\n",
       "      <td>2</td>\n",
       "      <td>4</td>\n",
       "      <td>2</td>\n",
       "      <td>2</td>\n",
       "      <td>1</td>\n",
       "      <td>4</td>\n",
       "      <td>1</td>\n",
       "      <td>23</td>\n",
       "      <td>3</td>\n",
       "      <td>1</td>\n",
       "      <td>1</td>\n",
       "      <td>2</td>\n",
       "      <td>2</td>\n",
       "      <td>1</td>\n",
       "      <td>2</td>\n",
       "      <td>1</td>\n",
       "    </tr>\n",
       "    <tr>\n",
       "      <th>3</th>\n",
       "      <td>1</td>\n",
       "      <td>12</td>\n",
       "      <td>4</td>\n",
       "      <td>0</td>\n",
       "      <td>2122</td>\n",
       "      <td>1</td>\n",
       "      <td>3</td>\n",
       "      <td>3</td>\n",
       "      <td>3</td>\n",
       "      <td>1</td>\n",
       "      <td>2</td>\n",
       "      <td>1</td>\n",
       "      <td>39</td>\n",
       "      <td>3</td>\n",
       "      <td>1</td>\n",
       "      <td>2</td>\n",
       "      <td>2</td>\n",
       "      <td>1</td>\n",
       "      <td>1</td>\n",
       "      <td>1</td>\n",
       "      <td>1</td>\n",
       "    </tr>\n",
       "    <tr>\n",
       "      <th>4</th>\n",
       "      <td>1</td>\n",
       "      <td>12</td>\n",
       "      <td>4</td>\n",
       "      <td>0</td>\n",
       "      <td>2171</td>\n",
       "      <td>1</td>\n",
       "      <td>3</td>\n",
       "      <td>4</td>\n",
       "      <td>3</td>\n",
       "      <td>1</td>\n",
       "      <td>4</td>\n",
       "      <td>2</td>\n",
       "      <td>38</td>\n",
       "      <td>1</td>\n",
       "      <td>2</td>\n",
       "      <td>2</td>\n",
       "      <td>2</td>\n",
       "      <td>2</td>\n",
       "      <td>1</td>\n",
       "      <td>1</td>\n",
       "      <td>1</td>\n",
       "    </tr>\n",
       "  </tbody>\n",
       "</table>\n",
       "</div>"
      ],
      "text/plain": [
       "   laufkont  laufzeit  moral  verw  hoehe  sparkont  beszeit  rate  famges  \\\n",
       "0         1        18      4     2   1049         1        2     4       2   \n",
       "1         1         9      4     0   2799         1        3     2       3   \n",
       "2         2        12      2     9    841         2        4     2       2   \n",
       "3         1        12      4     0   2122         1        3     3       3   \n",
       "4         1        12      4     0   2171         1        3     4       3   \n",
       "\n",
       "   buerge  wohnzeit  verm  alter  weitkred  wohn  bishkred  beruf  pers  \\\n",
       "0       1         4     2     21         3     1         1      3     2   \n",
       "1       1         2     1     36         3     1         2      3     1   \n",
       "2       1         4     1     23         3     1         1      2     2   \n",
       "3       1         2     1     39         3     1         2      2     1   \n",
       "4       1         4     2     38         1     2         2      2     2   \n",
       "\n",
       "   telef  gastarb  kredit  \n",
       "0      1        2       1  \n",
       "1      1        2       1  \n",
       "2      1        2       1  \n",
       "3      1        1       1  \n",
       "4      1        1       1  "
      ]
     },
     "execution_count": 3,
     "metadata": {},
     "output_type": "execute_result"
    }
   ],
   "source": [
    "credit_data.head()"
   ]
  },
  {
   "cell_type": "markdown",
   "metadata": {},
   "source": [
    "# EDA\n",
    "- changing column names"
   ]
  },
  {
   "cell_type": "code",
   "execution_count": 4,
   "metadata": {},
   "outputs": [],
   "source": [
    "new_columns=dict(zip(credit_data.columns,[\"status\",\"duration\",\"credit_histroy\",\"purpose\",\"amount\",\"savings\",\"employment_duration\",\"installment_rate\",\"personal_status_sex\",\"other_debtors\",\"present_residence\",\"property\",\"age\",\"other_installment_plans\",\"housing\",\"number_credits\",\"job\",\"people_liable\",\"telephone\",\"foreign_worker\",\"credit_risk\"]))"
   ]
  },
  {
   "cell_type": "code",
   "execution_count": 5,
   "metadata": {},
   "outputs": [
    {
     "data": {
      "text/plain": [
       "{'laufkont': 'status',\n",
       " 'laufzeit': 'duration',\n",
       " 'moral': 'credit_histroy',\n",
       " 'verw': 'purpose',\n",
       " 'hoehe': 'amount',\n",
       " 'sparkont': 'savings',\n",
       " 'beszeit': 'employment_duration',\n",
       " 'rate': 'installment_rate',\n",
       " 'famges': 'personal_status_sex',\n",
       " 'buerge': 'other_debtors',\n",
       " 'wohnzeit': 'present_residence',\n",
       " 'verm': 'property',\n",
       " 'alter': 'age',\n",
       " 'weitkred': 'other_installment_plans',\n",
       " 'wohn': 'housing',\n",
       " 'bishkred': 'number_credits',\n",
       " 'beruf': 'job',\n",
       " 'pers': 'people_liable',\n",
       " 'telef': 'telephone',\n",
       " 'gastarb': 'foreign_worker',\n",
       " 'kredit': 'credit_risk'}"
      ]
     },
     "execution_count": 5,
     "metadata": {},
     "output_type": "execute_result"
    }
   ],
   "source": [
    "new_columns"
   ]
  },
  {
   "cell_type": "code",
   "execution_count": 6,
   "metadata": {},
   "outputs": [],
   "source": [
    "credit_data.rename(columns=new_columns,inplace=True)"
   ]
  },
  {
   "cell_type": "code",
   "execution_count": 8,
   "metadata": {},
   "outputs": [],
   "source": [
    "# credit_data.to_csv(\"south_german_dataset\",index=False)"
   ]
  },
  {
   "cell_type": "code",
   "execution_count": 9,
   "metadata": {},
   "outputs": [
    {
     "data": {
      "text/plain": [
       "status                     0\n",
       "duration                   0\n",
       "credit_histroy             0\n",
       "purpose                    0\n",
       "amount                     0\n",
       "savings                    0\n",
       "employment_duration        0\n",
       "installment_rate           0\n",
       "personal_status_sex        0\n",
       "other_debtors              0\n",
       "present_residence          0\n",
       "property                   0\n",
       "age                        0\n",
       "other_installment_plans    0\n",
       "housing                    0\n",
       "number_credits             0\n",
       "job                        0\n",
       "people_liable              0\n",
       "telephone                  0\n",
       "foreign_worker             0\n",
       "credit_risk                0\n",
       "dtype: int64"
      ]
     },
     "execution_count": 9,
     "metadata": {},
     "output_type": "execute_result"
    }
   ],
   "source": [
    "credit_data.isnull().sum()"
   ]
  },
  {
   "cell_type": "code",
   "execution_count": 10,
   "metadata": {},
   "outputs": [],
   "source": [
    "new_valued_columns=[\"status\",\"savings\",\"employment_duration\",\"installment_rate\",\"personal_status_sex\",\"other_debtors\",\"present_residence\",\"property\",\"other_installment_plans\",\"housing\",\"number_credits\",\"job\",\"people_liable\",\"telephone\",\"foreign_worker\"]"
   ]
  },
  {
   "cell_type": "code",
   "execution_count": 11,
   "metadata": {
    "scrolled": true
   },
   "outputs": [],
   "source": [
    "credit_data[new_valued_columns]=credit_data[new_valued_columns].apply(lambda x:x-1)"
   ]
  },
  {
   "cell_type": "code",
   "execution_count": 48,
   "metadata": {},
   "outputs": [
    {
     "data": {
      "text/html": [
       "<div>\n",
       "<style scoped>\n",
       "    .dataframe tbody tr th:only-of-type {\n",
       "        vertical-align: middle;\n",
       "    }\n",
       "\n",
       "    .dataframe tbody tr th {\n",
       "        vertical-align: top;\n",
       "    }\n",
       "\n",
       "    .dataframe thead th {\n",
       "        text-align: right;\n",
       "    }\n",
       "</style>\n",
       "<table border=\"1\" class=\"dataframe\">\n",
       "  <thead>\n",
       "    <tr style=\"text-align: right;\">\n",
       "      <th></th>\n",
       "      <th>status</th>\n",
       "      <th>duration</th>\n",
       "      <th>credit_histroy</th>\n",
       "      <th>purpose</th>\n",
       "      <th>amount</th>\n",
       "      <th>savings</th>\n",
       "      <th>employment_duration</th>\n",
       "      <th>installment_rate</th>\n",
       "      <th>personal_status_sex</th>\n",
       "      <th>other_debtors</th>\n",
       "      <th>present_residence</th>\n",
       "      <th>property</th>\n",
       "      <th>age</th>\n",
       "      <th>other_installment_plans</th>\n",
       "      <th>housing</th>\n",
       "      <th>number_credits</th>\n",
       "      <th>job</th>\n",
       "      <th>people_liable</th>\n",
       "      <th>telephone</th>\n",
       "      <th>foreign_worker</th>\n",
       "      <th>credit_risk</th>\n",
       "    </tr>\n",
       "  </thead>\n",
       "  <tbody>\n",
       "    <tr>\n",
       "      <th>0</th>\n",
       "      <td>0</td>\n",
       "      <td>18</td>\n",
       "      <td>4</td>\n",
       "      <td>2</td>\n",
       "      <td>1049</td>\n",
       "      <td>0</td>\n",
       "      <td>1</td>\n",
       "      <td>3</td>\n",
       "      <td>1</td>\n",
       "      <td>0</td>\n",
       "      <td>3</td>\n",
       "      <td>1</td>\n",
       "      <td>21</td>\n",
       "      <td>2</td>\n",
       "      <td>0</td>\n",
       "      <td>0</td>\n",
       "      <td>2</td>\n",
       "      <td>1</td>\n",
       "      <td>0</td>\n",
       "      <td>1</td>\n",
       "      <td>1</td>\n",
       "    </tr>\n",
       "    <tr>\n",
       "      <th>1</th>\n",
       "      <td>0</td>\n",
       "      <td>9</td>\n",
       "      <td>4</td>\n",
       "      <td>0</td>\n",
       "      <td>2799</td>\n",
       "      <td>0</td>\n",
       "      <td>2</td>\n",
       "      <td>1</td>\n",
       "      <td>2</td>\n",
       "      <td>0</td>\n",
       "      <td>1</td>\n",
       "      <td>0</td>\n",
       "      <td>36</td>\n",
       "      <td>2</td>\n",
       "      <td>0</td>\n",
       "      <td>1</td>\n",
       "      <td>2</td>\n",
       "      <td>0</td>\n",
       "      <td>0</td>\n",
       "      <td>1</td>\n",
       "      <td>1</td>\n",
       "    </tr>\n",
       "    <tr>\n",
       "      <th>2</th>\n",
       "      <td>1</td>\n",
       "      <td>12</td>\n",
       "      <td>2</td>\n",
       "      <td>9</td>\n",
       "      <td>841</td>\n",
       "      <td>1</td>\n",
       "      <td>3</td>\n",
       "      <td>1</td>\n",
       "      <td>1</td>\n",
       "      <td>0</td>\n",
       "      <td>3</td>\n",
       "      <td>0</td>\n",
       "      <td>23</td>\n",
       "      <td>2</td>\n",
       "      <td>0</td>\n",
       "      <td>0</td>\n",
       "      <td>1</td>\n",
       "      <td>1</td>\n",
       "      <td>0</td>\n",
       "      <td>1</td>\n",
       "      <td>1</td>\n",
       "    </tr>\n",
       "    <tr>\n",
       "      <th>3</th>\n",
       "      <td>0</td>\n",
       "      <td>12</td>\n",
       "      <td>4</td>\n",
       "      <td>0</td>\n",
       "      <td>2122</td>\n",
       "      <td>0</td>\n",
       "      <td>2</td>\n",
       "      <td>2</td>\n",
       "      <td>2</td>\n",
       "      <td>0</td>\n",
       "      <td>1</td>\n",
       "      <td>0</td>\n",
       "      <td>39</td>\n",
       "      <td>2</td>\n",
       "      <td>0</td>\n",
       "      <td>1</td>\n",
       "      <td>1</td>\n",
       "      <td>0</td>\n",
       "      <td>0</td>\n",
       "      <td>0</td>\n",
       "      <td>1</td>\n",
       "    </tr>\n",
       "    <tr>\n",
       "      <th>4</th>\n",
       "      <td>0</td>\n",
       "      <td>12</td>\n",
       "      <td>4</td>\n",
       "      <td>0</td>\n",
       "      <td>2171</td>\n",
       "      <td>0</td>\n",
       "      <td>2</td>\n",
       "      <td>3</td>\n",
       "      <td>2</td>\n",
       "      <td>0</td>\n",
       "      <td>3</td>\n",
       "      <td>1</td>\n",
       "      <td>38</td>\n",
       "      <td>0</td>\n",
       "      <td>1</td>\n",
       "      <td>1</td>\n",
       "      <td>1</td>\n",
       "      <td>1</td>\n",
       "      <td>0</td>\n",
       "      <td>0</td>\n",
       "      <td>1</td>\n",
       "    </tr>\n",
       "  </tbody>\n",
       "</table>\n",
       "</div>"
      ],
      "text/plain": [
       "   status  duration  credit_histroy  purpose  amount  savings  \\\n",
       "0       0        18               4        2    1049        0   \n",
       "1       0         9               4        0    2799        0   \n",
       "2       1        12               2        9     841        1   \n",
       "3       0        12               4        0    2122        0   \n",
       "4       0        12               4        0    2171        0   \n",
       "\n",
       "   employment_duration  installment_rate  personal_status_sex  other_debtors  \\\n",
       "0                    1                 3                    1              0   \n",
       "1                    2                 1                    2              0   \n",
       "2                    3                 1                    1              0   \n",
       "3                    2                 2                    2              0   \n",
       "4                    2                 3                    2              0   \n",
       "\n",
       "   present_residence  property  age  other_installment_plans  housing  \\\n",
       "0                  3         1   21                        2        0   \n",
       "1                  1         0   36                        2        0   \n",
       "2                  3         0   23                        2        0   \n",
       "3                  1         0   39                        2        0   \n",
       "4                  3         1   38                        0        1   \n",
       "\n",
       "   number_credits  job  people_liable  telephone  foreign_worker  credit_risk  \n",
       "0               0    2              1          0               1            1  \n",
       "1               1    2              0          0               1            1  \n",
       "2               0    1              1          0               1            1  \n",
       "3               1    1              0          0               0            1  \n",
       "4               1    1              1          0               0            1  "
      ]
     },
     "execution_count": 48,
     "metadata": {},
     "output_type": "execute_result"
    }
   ],
   "source": [
    "credit_data.head()"
   ]
  },
  {
   "cell_type": "code",
   "execution_count": 49,
   "metadata": {},
   "outputs": [
    {
     "data": {
      "text/plain": [
       "<AxesSubplot:xlabel='age', ylabel='count'>"
      ]
     },
     "execution_count": 49,
     "metadata": {},
     "output_type": "execute_result"
    },
    {
     "data": {
      "image/png": "[encoded data removed]",
      "text/plain": [
       "<Figure size 1440x360 with 1 Axes>"
      ]
     },
     "metadata": {
      "needs_background": "light"
     },
     "output_type": "display_data"
    }
   ],
   "source": [
    "plt.figure(figsize=(20,5))\n",
    "sn.countplot(credit_data.age,hue=credit_data.credit_risk,)"
   ]
  },
  {
   "cell_type": "markdown",
   "metadata": {},
   "source": [
    "# Feature selection\n",
    "- FS is done using extratrees classifier"
   ]
  },
  {
   "cell_type": "code",
   "execution_count": 14,
   "metadata": {},
   "outputs": [],
   "source": [
    "X=credit_data.iloc[:,:-1]\n",
    "y=credit_data.iloc[:,-1]"
   ]
  },
  {
   "cell_type": "code",
   "execution_count": 15,
   "metadata": {},
   "outputs": [
    {
     "data": {
      "text/html": [
       "<div>\n",
       "<style scoped>\n",
       "    .dataframe tbody tr th:only-of-type {\n",
       "        vertical-align: middle;\n",
       "    }\n",
       "\n",
       "    .dataframe tbody tr th {\n",
       "        vertical-align: top;\n",
       "    }\n",
       "\n",
       "    .dataframe thead th {\n",
       "        text-align: right;\n",
       "    }\n",
       "</style>\n",
       "<table border=\"1\" class=\"dataframe\">\n",
       "  <thead>\n",
       "    <tr style=\"text-align: right;\">\n",
       "      <th></th>\n",
       "      <th>status</th>\n",
       "      <th>duration</th>\n",
       "      <th>credit_histroy</th>\n",
       "      <th>purpose</th>\n",
       "      <th>amount</th>\n",
       "      <th>savings</th>\n",
       "      <th>employment_duration</th>\n",
       "      <th>installment_rate</th>\n",
       "      <th>personal_status_sex</th>\n",
       "      <th>other_debtors</th>\n",
       "      <th>present_residence</th>\n",
       "      <th>property</th>\n",
       "      <th>age</th>\n",
       "      <th>other_installment_plans</th>\n",
       "      <th>housing</th>\n",
       "      <th>number_credits</th>\n",
       "      <th>job</th>\n",
       "      <th>people_liable</th>\n",
       "      <th>telephone</th>\n",
       "      <th>foreign_worker</th>\n",
       "    </tr>\n",
       "  </thead>\n",
       "  <tbody>\n",
       "    <tr>\n",
       "      <th>0</th>\n",
       "      <td>0</td>\n",
       "      <td>18</td>\n",
       "      <td>4</td>\n",
       "      <td>2</td>\n",
       "      <td>1049</td>\n",
       "      <td>0</td>\n",
       "      <td>1</td>\n",
       "      <td>3</td>\n",
       "      <td>1</td>\n",
       "      <td>0</td>\n",
       "      <td>3</td>\n",
       "      <td>1</td>\n",
       "      <td>21</td>\n",
       "      <td>2</td>\n",
       "      <td>0</td>\n",
       "      <td>0</td>\n",
       "      <td>2</td>\n",
       "      <td>1</td>\n",
       "      <td>0</td>\n",
       "      <td>1</td>\n",
       "    </tr>\n",
       "    <tr>\n",
       "      <th>1</th>\n",
       "      <td>0</td>\n",
       "      <td>9</td>\n",
       "      <td>4</td>\n",
       "      <td>0</td>\n",
       "      <td>2799</td>\n",
       "      <td>0</td>\n",
       "      <td>2</td>\n",
       "      <td>1</td>\n",
       "      <td>2</td>\n",
       "      <td>0</td>\n",
       "      <td>1</td>\n",
       "      <td>0</td>\n",
       "      <td>36</td>\n",
       "      <td>2</td>\n",
       "      <td>0</td>\n",
       "      <td>1</td>\n",
       "      <td>2</td>\n",
       "      <td>0</td>\n",
       "      <td>0</td>\n",
       "      <td>1</td>\n",
       "    </tr>\n",
       "    <tr>\n",
       "      <th>2</th>\n",
       "      <td>1</td>\n",
       "      <td>12</td>\n",
       "      <td>2</td>\n",
       "      <td>9</td>\n",
       "      <td>841</td>\n",
       "      <td>1</td>\n",
       "      <td>3</td>\n",
       "      <td>1</td>\n",
       "      <td>1</td>\n",
       "      <td>0</td>\n",
       "      <td>3</td>\n",
       "      <td>0</td>\n",
       "      <td>23</td>\n",
       "      <td>2</td>\n",
       "      <td>0</td>\n",
       "      <td>0</td>\n",
       "      <td>1</td>\n",
       "      <td>1</td>\n",
       "      <td>0</td>\n",
       "      <td>1</td>\n",
       "    </tr>\n",
       "    <tr>\n",
       "      <th>3</th>\n",
       "      <td>0</td>\n",
       "      <td>12</td>\n",
       "      <td>4</td>\n",
       "      <td>0</td>\n",
       "      <td>2122</td>\n",
       "      <td>0</td>\n",
       "      <td>2</td>\n",
       "      <td>2</td>\n",
       "      <td>2</td>\n",
       "      <td>0</td>\n",
       "      <td>1</td>\n",
       "      <td>0</td>\n",
       "      <td>39</td>\n",
       "      <td>2</td>\n",
       "      <td>0</td>\n",
       "      <td>1</td>\n",
       "      <td>1</td>\n",
       "      <td>0</td>\n",
       "      <td>0</td>\n",
       "      <td>0</td>\n",
       "    </tr>\n",
       "    <tr>\n",
       "      <th>4</th>\n",
       "      <td>0</td>\n",
       "      <td>12</td>\n",
       "      <td>4</td>\n",
       "      <td>0</td>\n",
       "      <td>2171</td>\n",
       "      <td>0</td>\n",
       "      <td>2</td>\n",
       "      <td>3</td>\n",
       "      <td>2</td>\n",
       "      <td>0</td>\n",
       "      <td>3</td>\n",
       "      <td>1</td>\n",
       "      <td>38</td>\n",
       "      <td>0</td>\n",
       "      <td>1</td>\n",
       "      <td>1</td>\n",
       "      <td>1</td>\n",
       "      <td>1</td>\n",
       "      <td>0</td>\n",
       "      <td>0</td>\n",
       "    </tr>\n",
       "  </tbody>\n",
       "</table>\n",
       "</div>"
      ],
      "text/plain": [
       "   status  duration  credit_histroy  purpose  amount  savings  \\\n",
       "0       0        18               4        2    1049        0   \n",
       "1       0         9               4        0    2799        0   \n",
       "2       1        12               2        9     841        1   \n",
       "3       0        12               4        0    2122        0   \n",
       "4       0        12               4        0    2171        0   \n",
       "\n",
       "   employment_duration  installment_rate  personal_status_sex  other_debtors  \\\n",
       "0                    1                 3                    1              0   \n",
       "1                    2                 1                    2              0   \n",
       "2                    3                 1                    1              0   \n",
       "3                    2                 2                    2              0   \n",
       "4                    2                 3                    2              0   \n",
       "\n",
       "   present_residence  property  age  other_installment_plans  housing  \\\n",
       "0                  3         1   21                        2        0   \n",
       "1                  1         0   36                        2        0   \n",
       "2                  3         0   23                        2        0   \n",
       "3                  1         0   39                        2        0   \n",
       "4                  3         1   38                        0        1   \n",
       "\n",
       "   number_credits  job  people_liable  telephone  foreign_worker  \n",
       "0               0    2              1          0               1  \n",
       "1               1    2              0          0               1  \n",
       "2               0    1              1          0               1  \n",
       "3               1    1              0          0               0  \n",
       "4               1    1              1          0               0  "
      ]
     },
     "execution_count": 15,
     "metadata": {},
     "output_type": "execute_result"
    }
   ],
   "source": [
    "X.head()"
   ]
  },
  {
   "cell_type": "code",
   "execution_count": 16,
   "metadata": {},
   "outputs": [
    {
     "data": {
      "text/plain": [
       "0    1\n",
       "1    1\n",
       "2    1\n",
       "3    1\n",
       "4    1\n",
       "Name: credit_risk, dtype: int64"
      ]
     },
     "execution_count": 16,
     "metadata": {},
     "output_type": "execute_result"
    }
   ],
   "source": [
    "y.head()"
   ]
  },
  {
   "cell_type": "code",
   "execution_count": 21,
   "metadata": {},
   "outputs": [
    {
     "name": "stdout",
     "output_type": "stream",
     "text": [
      "{'n_estimators': [100, 138, 177, 216, 255, 293, 332, 371, 410, 448, 487, 526, 565, 604, 642, 681, 720, 759, 797, 836, 875, 914, 953, 991, 1030, 1069, 1108, 1146, 1185, 1224, 1263, 1302, 1340, 1379, 1418, 1457, 1495, 1534, 1573, 1612, 1651, 1689, 1728, 1767, 1806, 1844, 1883, 1922, 1961, 2000], 'max_features': ['auto', 'sqrt', 'log2'], 'max_depth': [10, 30, 50, 70, 90, 111, 131, 151, 171, 191, 212, 232, 252, 272, 292, 313, 333, 353, 373, 393, 414, 434, 454, 474, 494, 515, 535, 555, 575, 595, 616, 636, 656, 676, 696, 717, 737, 757, 777, 797, 818, 838, 858, 878, 898, 919, 939, 959, 979, 1000], 'min_samples_split': [2, 4, 6, 8, 10, 12, 14, 16, 18, 20, 22, 24, 26, 28, 30, 32, 34, 36, 38, 40, 42, 44, 46, 48, 50, 52, 54, 56, 58, 60, 62, 64, 66, 68, 70, 72, 74, 76, 78, 80, 82, 84, 86, 88, 90, 92, 94, 96, 98, 100], 'min_samples_leaf': [1, 3, 5, 7, 9, 11, 13, 15, 17, 19, 21, 23, 25, 27, 29, 31, 33, 35, 37, 39, 41, 43, 45, 47, 49, 51, 53, 55, 57, 59, 61, 63, 65, 67, 69, 71, 73, 75, 77, 79, 81, 83, 85, 87, 89, 91, 93, 95, 97, 100], 'criterion': ['entropy', 'gini']}\n"
     ]
    }
   ],
   "source": [
    "from sklearn.model_selection import RandomizedSearchCV\n",
    "# Number of trees in random forest\n",
    "n_estimators = [int(x) for x in np.linspace(start = 100, stop = 2000)]\n",
    "# Number of features to consider at every split\n",
    "max_features = ['auto', 'sqrt','log2']\n",
    "# Maximum number of levels in tree\n",
    "max_depth = [int(x) for x in np.linspace(10, 1000)]\n",
    "# Minimum number of samples required to split a node\n",
    "min_samples_split = [int(x) for x in np.linspace(2,100)]\n",
    "# Minimum number of samples required at each leaf node\n",
    "min_samples_leaf = [int(x) for x in np.linspace(1,100)]\n",
    "# Create the random grid\n",
    "random_grid = {'n_estimators': n_estimators,\n",
    "               'max_features': max_features,\n",
    "               'max_depth': max_depth,\n",
    "               'min_samples_split': min_samples_split,\n",
    "               'min_samples_leaf': min_samples_leaf,\n",
    "              'criterion':['entropy','gini']}\n",
    "print(random_grid)"
   ]
  },
  {
   "cell_type": "code",
   "execution_count": 22,
   "metadata": {},
   "outputs": [],
   "source": [
    "from sklearn.ensemble import ExtraTreesClassifier\n",
    "import matplotlib.pyplot as plt\n",
    "model=ExtraTreesClassifier()"
   ]
  },
  {
   "cell_type": "code",
   "execution_count": 23,
   "metadata": {},
   "outputs": [
    {
     "name": "stdout",
     "output_type": "stream",
     "text": [
      "Fitting 5 folds for each of 100 candidates, totalling 500 fits\n"
     ]
    },
    {
     "name": "stderr",
     "output_type": "stream",
     "text": [
      "[Parallel(n_jobs=-1)]: Using backend LokyBackend with 8 concurrent workers.\n",
      "[Parallel(n_jobs=-1)]: Done  34 tasks      | elapsed:   13.6s\n",
      "[Parallel(n_jobs=-1)]: Done 184 tasks      | elapsed:  1.1min\n",
      "[Parallel(n_jobs=-1)]: Done 434 tasks      | elapsed:  2.9min\n",
      "[Parallel(n_jobs=-1)]: Done 500 out of 500 | elapsed:  3.4min finished\n"
     ]
    },
    {
     "data": {
      "text/plain": [
       "RandomizedSearchCV(cv=5, estimator=ExtraTreesClassifier(), n_iter=100,\n",
       "                   n_jobs=-1,\n",
       "                   param_distributions={'criterion': ['entropy', 'gini'],\n",
       "                                        'max_depth': [10, 30, 50, 70, 90, 111,\n",
       "                                                      131, 151, 171, 191, 212,\n",
       "                                                      232, 252, 272, 292, 313,\n",
       "                                                      333, 353, 373, 393, 414,\n",
       "                                                      434, 454, 474, 494, 515,\n",
       "                                                      535, 555, 575, 595, ...],\n",
       "                                        'max_features': ['auto', 'sqrt',\n",
       "                                                         'log2'],\n",
       "                                        'min_samples_leaf': [1, 3, 5, 7, 9, 11,\n",
       "                                                             13, 15, 17, 19, 21,\n",
       "                                                             23, 25, 27, 29, 31,\n",
       "                                                             33, 35, 37, 39, 41,\n",
       "                                                             43, 45, 47, 49, 51,\n",
       "                                                             53, 55, 57, 59, ...],\n",
       "                                        'min_samples_split': [2, 4, 6, 8, 10,\n",
       "                                                              12, 14, 16, 18,\n",
       "                                                              20, 22, 24, 26,\n",
       "                                                              28, 30, 32, 34,\n",
       "                                                              36, 38, 40, 42,\n",
       "                                                              44, 46, 48, 50,\n",
       "                                                              52, 54, 56, 58,\n",
       "                                                              60, ...],\n",
       "                                        'n_estimators': [100, 138, 177, 216,\n",
       "                                                         255, 293, 332, 371,\n",
       "                                                         410, 448, 487, 526,\n",
       "                                                         565, 604, 642, 681,\n",
       "                                                         720, 759, 797, 836,\n",
       "                                                         875, 914, 953, 991,\n",
       "                                                         1030, 1069, 1108, 1146,\n",
       "                                                         1185, 1224, ...]},\n",
       "                   random_state=90, verbose=1)"
      ]
     },
     "execution_count": 23,
     "metadata": {},
     "output_type": "execute_result"
    }
   ],
   "source": [
    "random_cv=RandomizedSearchCV(estimator=model,param_distributions=random_grid,n_iter=100,cv=5,verbose=1,random_state=90,n_jobs=-1)\n",
    "random_cv.fit(X,y)"
   ]
  },
  {
   "cell_type": "code",
   "execution_count": 24,
   "metadata": {},
   "outputs": [
    {
     "data": {
      "text/plain": [
       "{'n_estimators': 1457,\n",
       " 'min_samples_split': 38,\n",
       " 'min_samples_leaf': 3,\n",
       " 'max_features': 'auto',\n",
       " 'max_depth': 292,\n",
       " 'criterion': 'entropy'}"
      ]
     },
     "execution_count": 24,
     "metadata": {},
     "output_type": "execute_result"
    }
   ],
   "source": [
    "random_cv.best_params_"
   ]
  },
  {
   "cell_type": "code",
   "execution_count": 25,
   "metadata": {},
   "outputs": [],
   "source": [
    "new_model=random_cv.best_estimator_"
   ]
  },
  {
   "cell_type": "code",
   "execution_count": 26,
   "metadata": {},
   "outputs": [
    {
     "data": {
      "text/plain": [
       "ExtraTreesClassifier(criterion='entropy', max_depth=292, min_samples_leaf=3,\n",
       "                     min_samples_split=38, n_estimators=1457)"
      ]
     },
     "execution_count": 26,
     "metadata": {},
     "output_type": "execute_result"
    }
   ],
   "source": [
    "new_model.fit(X,y)"
   ]
  },
  {
   "cell_type": "code",
   "execution_count": 27,
   "metadata": {},
   "outputs": [
    {
     "name": "stdout",
     "output_type": "stream",
     "text": [
      "[0.32017025 0.07658442 0.09942261 0.0275888  0.04398337 0.07600725\n",
      " 0.03850663 0.02712599 0.02153287 0.03288222 0.01806492 0.04228454\n",
      " 0.0258356  0.03284838 0.02558345 0.0165506  0.01928285 0.01809758\n",
      " 0.01741555 0.02023212]\n"
     ]
    }
   ],
   "source": [
    "print(new_model.feature_importances_)"
   ]
  },
  {
   "cell_type": "code",
   "execution_count": 30,
   "metadata": {},
   "outputs": [
    {
     "data": {
      "image/png": "[encoded data removed]",
      "text/plain": [
       "<Figure size 864x576 with 1 Axes>"
      ]
     },
     "metadata": {
      "needs_background": "light"
     },
     "output_type": "display_data"
    }
   ],
   "source": [
    "plt.figure(figsize = (12,8))\n",
    "best_features=pd.Series(new_model.feature_importances_,index=X.columns)\n",
    "best_features.nlargest(20).plot(kind='barh')\n",
    "plt.show()"
   ]
  },
  {
   "cell_type": "code",
   "execution_count": 31,
   "metadata": {},
   "outputs": [],
   "source": [
    "X=credit_data.loc[:,['status', 'credit_histroy', 'duration', 'savings', 'property', 'amount','employment_duration', 'purpose', 'age', 'installment_rate']]\n",
    "y=credit_data.iloc[:,-1]"
   ]
  },
  {
   "cell_type": "markdown",
   "metadata": {},
   "source": [
    "# Model selection\n",
    "- random forest calssifier and ada-boost classifier algorithms are used \n",
    "- both models are passed through hyperparameter tuning and best model is selected"
   ]
  },
  {
   "cell_type": "code",
   "execution_count": 32,
   "metadata": {},
   "outputs": [],
   "source": [
    "from sklearn.model_selection import train_test_split\n",
    "X_train, X_test, y_train, y_test = train_test_split(X, y, test_size = 0.25, random_state = 20)"
   ]
  },
  {
   "cell_type": "code",
   "execution_count": 33,
   "metadata": {},
   "outputs": [],
   "source": [
    "from sklearn.ensemble import RandomForestClassifier\n",
    "RF=RandomForestClassifier()\n",
    "RF.fit(X_train,y_train)\n",
    "RF_prediction=RF.predict(X_test)"
   ]
  },
  {
   "cell_type": "code",
   "execution_count": 55,
   "metadata": {},
   "outputs": [
    {
     "name": "stdout",
     "output_type": "stream",
     "text": [
      "[[ 34  32]\n",
      " [ 22 162]]\n",
      "0.784\n",
      "              precision    recall  f1-score   support\n",
      "\n",
      "           0       0.61      0.52      0.56        66\n",
      "           1       0.84      0.88      0.86       184\n",
      "\n",
      "    accuracy                           0.78       250\n",
      "   macro avg       0.72      0.70      0.71       250\n",
      "weighted avg       0.77      0.78      0.78       250\n",
      "\n"
     ]
    }
   ],
   "source": [
    "from sklearn.metrics import confusion_matrix,classification_report,accuracy_score\n",
    "print(confusion_matrix(y_test,RF_prediction))\n",
    "print(accuracy_score(y_test,RF_prediction))\n",
    "print(classification_report(y_test,RF_prediction))"
   ]
  },
  {
   "cell_type": "code",
   "execution_count": 37,
   "metadata": {},
   "outputs": [
    {
     "name": "stdout",
     "output_type": "stream",
     "text": [
      "{'n_estimators': [100, 138, 177, 216, 255, 293, 332, 371, 410, 448, 487, 526, 565, 604, 642, 681, 720, 759, 797, 836, 875, 914, 953, 991, 1030, 1069, 1108, 1146, 1185, 1224, 1263, 1302, 1340, 1379, 1418, 1457, 1495, 1534, 1573, 1612, 1651, 1689, 1728, 1767, 1806, 1844, 1883, 1922, 1961, 2000], 'max_features': ['auto', 'sqrt', 'log2'], 'max_depth': [10, 30, 50, 70, 90, 111, 131, 151, 171, 191, 212, 232, 252, 272, 292, 313, 333, 353, 373, 393, 414, 434, 454, 474, 494, 515, 535, 555, 575, 595, 616, 636, 656, 676, 696, 717, 737, 757, 777, 797, 818, 838, 858, 878, 898, 919, 939, 959, 979, 1000], 'min_samples_split': [2, 4, 6, 8, 10, 12, 14, 16, 18, 20, 22, 24, 26, 28, 30, 32, 34, 36, 38, 40, 42, 44, 46, 48, 50, 52, 54, 56, 58, 60, 62, 64, 66, 68, 70, 72, 74, 76, 78, 80, 82, 84, 86, 88, 90, 92, 94, 96, 98, 100], 'min_samples_leaf': [1, 3, 5, 7, 9, 11, 13, 15, 17, 19, 21, 23, 25, 27, 29, 31, 33, 35, 37, 39, 41, 43, 45, 47, 49, 51, 53, 55, 57, 59, 61, 63, 65, 67, 69, 71, 73, 75, 77, 79, 81, 83, 85, 87, 89, 91, 93, 95, 97, 100], 'criterion': ['entropy', 'gini']}\n"
     ]
    }
   ],
   "source": [
    "# Number of trees in random forest\n",
    "n_estimators = [int(x) for x in np.linspace(start = 100, stop = 2000)]\n",
    "# Number of features to consider at every split\n",
    "max_features = ['auto', 'sqrt','log2']\n",
    "# Maximum number of levels in tree\n",
    "max_depth = [int(x) for x in np.linspace(10, 1000)]\n",
    "# Minimum number of samples required to split a node\n",
    "min_samples_split = [int(x) for x in np.linspace(2,100)]\n",
    "# Minimum number of samples required at each leaf node\n",
    "min_samples_leaf = [int(x) for x in np.linspace(1,100)]\n",
    "# Create the random grid\n",
    "random_grid = {'n_estimators': n_estimators,\n",
    "               'max_features': max_features,\n",
    "               'max_depth': max_depth,\n",
    "               'min_samples_split': min_samples_split,\n",
    "               'min_samples_leaf': min_samples_leaf,\n",
    "              'criterion':['entropy','gini']}\n",
    "print(random_grid)"
   ]
  },
  {
   "cell_type": "code",
   "execution_count": 38,
   "metadata": {},
   "outputs": [
    {
     "name": "stdout",
     "output_type": "stream",
     "text": [
      "Fitting 5 folds for each of 100 candidates, totalling 500 fits\n"
     ]
    },
    {
     "name": "stderr",
     "output_type": "stream",
     "text": [
      "[Parallel(n_jobs=-1)]: Using backend LokyBackend with 8 concurrent workers.\n",
      "[Parallel(n_jobs=-1)]: Done  34 tasks      | elapsed:   33.0s\n",
      "[Parallel(n_jobs=-1)]: Done 184 tasks      | elapsed:  2.4min\n",
      "[Parallel(n_jobs=-1)]: Done 434 tasks      | elapsed:  5.3min\n",
      "[Parallel(n_jobs=-1)]: Done 500 out of 500 | elapsed:  5.8min finished\n"
     ]
    },
    {
     "data": {
      "text/plain": [
       "RandomizedSearchCV(cv=5, estimator=RandomForestClassifier(), n_iter=100,\n",
       "                   n_jobs=-1,\n",
       "                   param_distributions={'criterion': ['entropy', 'gini'],\n",
       "                                        'max_depth': [10, 30, 50, 70, 90, 111,\n",
       "                                                      131, 151, 171, 191, 212,\n",
       "                                                      232, 252, 272, 292, 313,\n",
       "                                                      333, 353, 373, 393, 414,\n",
       "                                                      434, 454, 474, 494, 515,\n",
       "                                                      535, 555, 575, 595, ...],\n",
       "                                        'max_features': ['auto', 'sqrt',\n",
       "                                                         'log2'],\n",
       "                                        'min_samples_leaf': [1, 3, 5, 7, 9, 11,\n",
       "                                                             13, 15, 17, 19, 21,\n",
       "                                                             23, 25, 27, 29, 31,\n",
       "                                                             33, 35, 37, 39, 41,\n",
       "                                                             43, 45, 47, 49, 51,\n",
       "                                                             53, 55, 57, 59, ...],\n",
       "                                        'min_samples_split': [2, 4, 6, 8, 10,\n",
       "                                                              12, 14, 16, 18,\n",
       "                                                              20, 22, 24, 26,\n",
       "                                                              28, 30, 32, 34,\n",
       "                                                              36, 38, 40, 42,\n",
       "                                                              44, 46, 48, 50,\n",
       "                                                              52, 54, 56, 58,\n",
       "                                                              60, ...],\n",
       "                                        'n_estimators': [100, 138, 177, 216,\n",
       "                                                         255, 293, 332, 371,\n",
       "                                                         410, 448, 487, 526,\n",
       "                                                         565, 604, 642, 681,\n",
       "                                                         720, 759, 797, 836,\n",
       "                                                         875, 914, 953, 991,\n",
       "                                                         1030, 1069, 1108, 1146,\n",
       "                                                         1185, 1224, ...]},\n",
       "                   random_state=40, verbose=1)"
      ]
     },
     "execution_count": 38,
     "metadata": {},
     "output_type": "execute_result"
    }
   ],
   "source": [
    "RF_cv=RandomForestClassifier()\n",
    "randomcv=RandomizedSearchCV(estimator=RF_cv,param_distributions=random_grid,n_iter=100,cv=5,verbose=1,random_state=40,n_jobs=-1)\n",
    "randomcv.fit(X_train,y_train)\n"
   ]
  },
  {
   "cell_type": "code",
   "execution_count": 39,
   "metadata": {},
   "outputs": [
    {
     "data": {
      "text/plain": [
       "{'n_estimators': 1263,\n",
       " 'min_samples_split': 6,\n",
       " 'min_samples_leaf': 5,\n",
       " 'max_features': 'auto',\n",
       " 'max_depth': 373,\n",
       " 'criterion': 'gini'}"
      ]
     },
     "execution_count": 39,
     "metadata": {},
     "output_type": "execute_result"
    }
   ],
   "source": [
    "randomcv.best_params_"
   ]
  },
  {
   "cell_type": "code",
   "execution_count": 40,
   "metadata": {},
   "outputs": [],
   "source": [
    "new_RF_model=randomcv.best_estimator_"
   ]
  },
  {
   "cell_type": "code",
   "execution_count": 41,
   "metadata": {},
   "outputs": [
    {
     "data": {
      "text/plain": [
       "RandomForestClassifier(max_depth=373, min_samples_leaf=5, min_samples_split=6,\n",
       "                       n_estimators=1263)"
      ]
     },
     "execution_count": 41,
     "metadata": {},
     "output_type": "execute_result"
    }
   ],
   "source": [
    "new_RF_model"
   ]
  },
  {
   "cell_type": "code",
   "execution_count": 42,
   "metadata": {},
   "outputs": [],
   "source": [
    "new_RF_model.fit(X_train,y_train)\n",
    "new_RF_prediction=new_RF_model.predict(X_test)"
   ]
  },
  {
   "cell_type": "code",
   "execution_count": 54,
   "metadata": {},
   "outputs": [
    {
     "name": "stdout",
     "output_type": "stream",
     "text": [
      "before hyperparameter tuning\n",
      "\n",
      "[[ 34  32]\n",
      " [ 22 162]]\n",
      "0.784\n",
      "              precision    recall  f1-score   support\n",
      "\n",
      "           0       0.61      0.52      0.56        66\n",
      "           1       0.84      0.88      0.86       184\n",
      "\n",
      "    accuracy                           0.78       250\n",
      "   macro avg       0.72      0.70      0.71       250\n",
      "weighted avg       0.77      0.78      0.78       250\n",
      "\n",
      "--------------------------------\n",
      "\n",
      "after hyperparameter tuning\n",
      "[[ 35  31]\n",
      " [ 19 165]]\n",
      "0.8\n",
      "              precision    recall  f1-score   support\n",
      "\n",
      "           0       0.65      0.53      0.58        66\n",
      "           1       0.84      0.90      0.87       184\n",
      "\n",
      "    accuracy                           0.80       250\n",
      "   macro avg       0.74      0.71      0.73       250\n",
      "weighted avg       0.79      0.80      0.79       250\n",
      "\n"
     ]
    }
   ],
   "source": [
    "print(\"before hyperparameter tuning\\n\")\n",
    "print(confusion_matrix(y_test,RF_prediction))\n",
    "print(accuracy_score(y_test,RF_prediction))\n",
    "print(classification_report(y_test,RF_prediction))\n",
    "print(\"--------------------------------\")\n",
    "print(\"\\nafter hyperparameter tuning\")\n",
    "print(confusion_matrix(y_test,new_RF_prediction))\n",
    "print(accuracy_score(y_test,new_RF_prediction))\n",
    "print(classification_report(y_test,new_RF_prediction))"
   ]
  },
  {
   "cell_type": "code",
   "execution_count": 45,
   "metadata": {},
   "outputs": [],
   "source": [
    "from sklearn.ensemble import AdaBoostClassifier\n",
    "ADB_clf = AdaBoostClassifier(n_estimators=100,algorithm=\"SAMME.R\",learning_rate=0.1)\n",
    "ADB_clf.fit(X_train,y_train)\n",
    "ADB_clf_prediction=ADB_clf.predict(X_test)"
   ]
  },
  {
   "cell_type": "code",
   "execution_count": 56,
   "metadata": {},
   "outputs": [
    {
     "name": "stdout",
     "output_type": "stream",
     "text": [
      "{'n_estimators': [100, 138, 177, 216, 255, 293, 332, 371, 410, 448, 487, 526, 565, 604, 642, 681, 720, 759, 797, 836, 875, 914, 953, 991, 1030, 1069, 1108, 1146, 1185, 1224, 1263, 1302, 1340, 1379, 1418, 1457, 1495, 1534, 1573, 1612, 1651, 1689, 1728, 1767, 1806, 1844, 1883, 1922, 1961, 2000], 'learning_rate': [0.1, 0.2, 0.3, 0.4, 0.5, 0.6, 0.7, 0.8, 0.9, 1], 'algorithm': ['SAMME.R']}\n"
     ]
    }
   ],
   "source": [
    "# Number of trees in random forest\n",
    "n_estimators = [int(x) for x in np.linspace(start = 100, stop = 2000)]\n",
    "# shrinks the contribution of each classifier by learning_rate, it is suggested to set α to smaller values (α<.1).\n",
    "# learning_rate = [x for x in np.linspace(0.1, 1,9)]\n",
    "learning_rate = [0.1,0.2,0.3,0.4,0.5,0.6,0.7,0.8,0.9,1]\n",
    "\n",
    "algorithm=[\"SAMME.R\"]\n",
    "\n",
    "random_grid = {'n_estimators': n_estimators,\n",
    "               'learning_rate': learning_rate,\n",
    "               'algorithm': algorithm}\n",
    "print(random_grid)"
   ]
  },
  {
   "cell_type": "code",
   "execution_count": 57,
   "metadata": {},
   "outputs": [
    {
     "name": "stdout",
     "output_type": "stream",
     "text": [
      "Fitting 5 folds for each of 100 candidates, totalling 500 fits\n"
     ]
    },
    {
     "name": "stderr",
     "output_type": "stream",
     "text": [
      "[Parallel(n_jobs=-1)]: Using backend LokyBackend with 8 concurrent workers.\n",
      "[Parallel(n_jobs=-1)]: Done  34 tasks      | elapsed:   15.9s\n",
      "[Parallel(n_jobs=-1)]: Done 184 tasks      | elapsed:  1.4min\n",
      "[Parallel(n_jobs=-1)]: Done 434 tasks      | elapsed:  3.6min\n",
      "[Parallel(n_jobs=-1)]: Done 500 out of 500 | elapsed:  4.1min finished\n"
     ]
    },
    {
     "data": {
      "text/plain": [
       "RandomizedSearchCV(cv=5, estimator=AdaBoostClassifier(), n_iter=100, n_jobs=-1,\n",
       "                   param_distributions={'algorithm': ['SAMME.R'],\n",
       "                                        'learning_rate': [0.1, 0.2, 0.3, 0.4,\n",
       "                                                          0.5, 0.6, 0.7, 0.8,\n",
       "                                                          0.9, 1],\n",
       "                                        'n_estimators': [100, 138, 177, 216,\n",
       "                                                         255, 293, 332, 371,\n",
       "                                                         410, 448, 487, 526,\n",
       "                                                         565, 604, 642, 681,\n",
       "                                                         720, 759, 797, 836,\n",
       "                                                         875, 914, 953, 991,\n",
       "                                                         1030, 1069, 1108, 1146,\n",
       "                                                         1185, 1224, ...]},\n",
       "                   random_state=40, verbose=1)"
      ]
     },
     "execution_count": 57,
     "metadata": {},
     "output_type": "execute_result"
    }
   ],
   "source": [
    "ADB_cv=AdaBoostClassifier()\n",
    "ADB_randomcv=RandomizedSearchCV(estimator=ADB_cv,param_distributions=random_grid,n_iter=100,cv=5,verbose=1,random_state=40,n_jobs=-1)\n",
    "ADB_randomcv.fit(X_train,y_train)"
   ]
  },
  {
   "cell_type": "code",
   "execution_count": 58,
   "metadata": {},
   "outputs": [
    {
     "data": {
      "text/plain": [
       "{'n_estimators': 177, 'learning_rate': 0.6, 'algorithm': 'SAMME.R'}"
      ]
     },
     "execution_count": 58,
     "metadata": {},
     "output_type": "execute_result"
    }
   ],
   "source": [
    "ADB_randomcv.best_params_"
   ]
  },
  {
   "cell_type": "code",
   "execution_count": 62,
   "metadata": {},
   "outputs": [],
   "source": [
    "new_ADB_model=ADB_randomcv.best_estimator_\n",
    "new_ADB_model.fit(X_train,y_train)\n",
    "new_ADB_prediction=new_ADB_model.predict(X_test)"
   ]
  },
  {
   "cell_type": "code",
   "execution_count": 64,
   "metadata": {},
   "outputs": [
    {
     "name": "stdout",
     "output_type": "stream",
     "text": [
      "before hyperparameter tuning\n",
      "\n",
      "[[ 28  38]\n",
      " [ 18 166]]\n",
      "0.776\n",
      "              precision    recall  f1-score   support\n",
      "\n",
      "           0       0.61      0.42      0.50        66\n",
      "           1       0.81      0.90      0.86       184\n",
      "\n",
      "    accuracy                           0.78       250\n",
      "   macro avg       0.71      0.66      0.68       250\n",
      "weighted avg       0.76      0.78      0.76       250\n",
      "\n",
      "--------------------------------\n",
      "\n",
      "after hyperparameter tuning\n",
      "[[ 36  30]\n",
      " [ 31 153]]\n",
      "0.756\n",
      "              precision    recall  f1-score   support\n",
      "\n",
      "           0       0.54      0.55      0.54        66\n",
      "           1       0.84      0.83      0.83       184\n",
      "\n",
      "    accuracy                           0.76       250\n",
      "   macro avg       0.69      0.69      0.69       250\n",
      "weighted avg       0.76      0.76      0.76       250\n",
      "\n"
     ]
    }
   ],
   "source": [
    "print(\"before hyperparameter tuning\\n\")\n",
    "print(confusion_matrix(y_test,ADB_clf_prediction))\n",
    "print(accuracy_score(y_test,ADB_clf_prediction))\n",
    "print(classification_report(y_test,ADB_clf_prediction))\n",
    "print(\"--------------------------------\")\n",
    "print(\"\\nafter hyperparameter tuning\")\n",
    "print(confusion_matrix(y_test,new_ADB_prediction))\n",
    "print(accuracy_score(y_test,new_ADB_prediction))\n",
    "print(classification_report(y_test,new_ADB_prediction))"
   ]
  },
  {
   "cell_type": "markdown",
   "metadata": {},
   "source": [
    "# saving model for futher use"
   ]
  },
  {
   "cell_type": "code",
   "execution_count": 65,
   "metadata": {},
   "outputs": [],
   "source": [
    "import pickle\n",
    "with open(\"random_forest_model.pickle\",\"wb\") as f:\n",
    "    pickle.dump(new_RF_model,f)"
   ]
  },
  {
   "cell_type": "code",
   "execution_count": null,
   "metadata": {},
   "outputs": [],
   "source": []
  }
 ],
 "metadata": {
  "kernelspec": {
   "display_name": "Python 3",
   "language": "python",
   "name": "python3"
  },
  "language_info": {
   "codemirror_mode": {
    "name": "ipython",
    "version": 3
   },
   "file_extension": ".py",
   "mimetype": "text/x-python",
   "name": "python",
   "nbconvert_exporter": "python",
   "pygments_lexer": "ipython3",
   "version": "3.6.10"
  }
 },
 "nbformat": 4,
 "nbformat_minor": 4
}
